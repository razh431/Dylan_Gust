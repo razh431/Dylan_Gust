{
 "cells": [
  {
   "cell_type": "code",
   "execution_count": null,
   "metadata": {},
   "outputs": [],
   "source": [
    "import requests\n",
    "from bs4 import BeautifulSoup\n",
    "import time\n",
    "\n",
    "# Set up a list of docket numbers to monitor\n",
    "dockets = ['9628', '9629'] #this will be a csv with a list of URLs\n",
    "\n",
    "# Set up a dictionary to store the current status of each docket\n",
    "statuses = {}\n",
    "for docket in dockets:\n",
    "    statuses[docket] = ''\n",
    "\n",
    "# Set up a function to check the status of a docket\n",
    "def check_status(docket):\n",
    "    url = f'https://www.psc.state.md.us/search-case-files/case-detail/?case={docket}' #this will be a csv with a list of URLs\n",
    "    response = requests.get(url)\n",
    "    soup = BeautifulSoup(response.content, 'html.parser')\n",
    "    status = soup.find('td', {'headers': 'status'})\n",
    "    if status is not None:\n",
    "        status = status.text.strip()\n",
    "    else:\n",
    "        status = ''\n",
    "    return status\n",
    "\n",
    "# Loop through and check the status of each docket\n",
    "while True:\n",
    "    for docket in dockets:\n",
    "        status = check_status(docket)\n",
    "        if status != statuses[docket]:\n",
    "            print(f'Docket {docket} has been updated! New status: {status}')\n",
    "            statuses[docket] = status\n",
    "    time.sleep(60) # wait for 60 seconds before checking again\n"
   ]
  },
  {
   "cell_type": "code",
   "execution_count": null,
   "metadata": {},
   "outputs": [],
   "source": []
  }
 ],
 "metadata": {
  "kernelspec": {
   "display_name": "Python 3",
   "language": "python",
   "name": "python3"
  },
  "language_info": {
   "codemirror_mode": {
    "name": "ipython",
    "version": 3
   },
   "file_extension": ".py",
   "mimetype": "text/x-python",
   "name": "python",
   "nbconvert_exporter": "python",
   "pygments_lexer": "ipython3",
   "version": "3.8.5"
  }
 },
 "nbformat": 4,
 "nbformat_minor": 4
}
